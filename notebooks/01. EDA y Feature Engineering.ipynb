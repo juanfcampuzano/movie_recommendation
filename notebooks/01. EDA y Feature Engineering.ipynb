{
 "cells": [
  {
   "attachments": {},
   "cell_type": "markdown",
   "metadata": {},
   "source": [
    "# 01. Análisis de los datos e ingeniería de features"
   ]
  },
  {
   "attachments": {},
   "cell_type": "markdown",
   "metadata": {},
   "source": [
    "## Importar librerías"
   ]
  },
  {
   "cell_type": "code",
   "execution_count": 1,
   "metadata": {},
   "outputs": [],
   "source": [
    "import pandas as pd\n",
    "import seaborn as sns\n",
    "import matplotlib.pyplot as plt\n",
    "import numpy as np\n",
    "from rake_nltk import Rake\n",
    "from sklearn.preprocessing import MinMaxScaler"
   ]
  },
  {
   "attachments": {},
   "cell_type": "markdown",
   "metadata": {},
   "source": [
    "## Leer dataset"
   ]
  },
  {
   "cell_type": "code",
   "execution_count": 2,
   "metadata": {},
   "outputs": [],
   "source": [
    "df_movies = pd.read_csv('../datasets/imdb_top_1000.csv')\n",
    "df_movies_original = df_movies.copy()"
   ]
  },
  {
   "cell_type": "code",
   "execution_count": 3,
   "metadata": {},
   "outputs": [
    {
     "data": {
      "text/html": [
       "<div>\n",
       "<style scoped>\n",
       "    .dataframe tbody tr th:only-of-type {\n",
       "        vertical-align: middle;\n",
       "    }\n",
       "\n",
       "    .dataframe tbody tr th {\n",
       "        vertical-align: top;\n",
       "    }\n",
       "\n",
       "    .dataframe thead th {\n",
       "        text-align: right;\n",
       "    }\n",
       "</style>\n",
       "<table border=\"1\" class=\"dataframe\">\n",
       "  <thead>\n",
       "    <tr style=\"text-align: right;\">\n",
       "      <th></th>\n",
       "      <th>Poster_Link</th>\n",
       "      <th>Series_Title</th>\n",
       "      <th>Released_Year</th>\n",
       "      <th>Certificate</th>\n",
       "      <th>Runtime</th>\n",
       "      <th>Genre</th>\n",
       "      <th>IMDB_Rating</th>\n",
       "      <th>Overview</th>\n",
       "      <th>Meta_score</th>\n",
       "      <th>Director</th>\n",
       "      <th>Star1</th>\n",
       "      <th>Star2</th>\n",
       "      <th>Star3</th>\n",
       "      <th>Star4</th>\n",
       "      <th>No_of_Votes</th>\n",
       "      <th>Gross</th>\n",
       "    </tr>\n",
       "  </thead>\n",
       "  <tbody>\n",
       "    <tr>\n",
       "      <th>0</th>\n",
       "      <td>https://m.media-amazon.com/images/M/MV5BMDFkYT...</td>\n",
       "      <td>The Shawshank Redemption</td>\n",
       "      <td>1994</td>\n",
       "      <td>A</td>\n",
       "      <td>142 min</td>\n",
       "      <td>Drama</td>\n",
       "      <td>9.3</td>\n",
       "      <td>Two imprisoned men bond over a number of years...</td>\n",
       "      <td>80.0</td>\n",
       "      <td>Frank Darabont</td>\n",
       "      <td>Tim Robbins</td>\n",
       "      <td>Morgan Freeman</td>\n",
       "      <td>Bob Gunton</td>\n",
       "      <td>William Sadler</td>\n",
       "      <td>2343110</td>\n",
       "      <td>28,341,469</td>\n",
       "    </tr>\n",
       "    <tr>\n",
       "      <th>1</th>\n",
       "      <td>https://m.media-amazon.com/images/M/MV5BM2MyNj...</td>\n",
       "      <td>The Godfather</td>\n",
       "      <td>1972</td>\n",
       "      <td>A</td>\n",
       "      <td>175 min</td>\n",
       "      <td>Crime, Drama</td>\n",
       "      <td>9.2</td>\n",
       "      <td>An organized crime dynasty's aging patriarch t...</td>\n",
       "      <td>100.0</td>\n",
       "      <td>Francis Ford Coppola</td>\n",
       "      <td>Marlon Brando</td>\n",
       "      <td>Al Pacino</td>\n",
       "      <td>James Caan</td>\n",
       "      <td>Diane Keaton</td>\n",
       "      <td>1620367</td>\n",
       "      <td>134,966,411</td>\n",
       "    </tr>\n",
       "    <tr>\n",
       "      <th>2</th>\n",
       "      <td>https://m.media-amazon.com/images/M/MV5BMTMxNT...</td>\n",
       "      <td>The Dark Knight</td>\n",
       "      <td>2008</td>\n",
       "      <td>UA</td>\n",
       "      <td>152 min</td>\n",
       "      <td>Action, Crime, Drama</td>\n",
       "      <td>9.0</td>\n",
       "      <td>When the menace known as the Joker wreaks havo...</td>\n",
       "      <td>84.0</td>\n",
       "      <td>Christopher Nolan</td>\n",
       "      <td>Christian Bale</td>\n",
       "      <td>Heath Ledger</td>\n",
       "      <td>Aaron Eckhart</td>\n",
       "      <td>Michael Caine</td>\n",
       "      <td>2303232</td>\n",
       "      <td>534,858,444</td>\n",
       "    </tr>\n",
       "    <tr>\n",
       "      <th>3</th>\n",
       "      <td>https://m.media-amazon.com/images/M/MV5BMWMwMG...</td>\n",
       "      <td>The Godfather: Part II</td>\n",
       "      <td>1974</td>\n",
       "      <td>A</td>\n",
       "      <td>202 min</td>\n",
       "      <td>Crime, Drama</td>\n",
       "      <td>9.0</td>\n",
       "      <td>The early life and career of Vito Corleone in ...</td>\n",
       "      <td>90.0</td>\n",
       "      <td>Francis Ford Coppola</td>\n",
       "      <td>Al Pacino</td>\n",
       "      <td>Robert De Niro</td>\n",
       "      <td>Robert Duvall</td>\n",
       "      <td>Diane Keaton</td>\n",
       "      <td>1129952</td>\n",
       "      <td>57,300,000</td>\n",
       "    </tr>\n",
       "    <tr>\n",
       "      <th>4</th>\n",
       "      <td>https://m.media-amazon.com/images/M/MV5BMWU4N2...</td>\n",
       "      <td>12 Angry Men</td>\n",
       "      <td>1957</td>\n",
       "      <td>U</td>\n",
       "      <td>96 min</td>\n",
       "      <td>Crime, Drama</td>\n",
       "      <td>9.0</td>\n",
       "      <td>A jury holdout attempts to prevent a miscarria...</td>\n",
       "      <td>96.0</td>\n",
       "      <td>Sidney Lumet</td>\n",
       "      <td>Henry Fonda</td>\n",
       "      <td>Lee J. Cobb</td>\n",
       "      <td>Martin Balsam</td>\n",
       "      <td>John Fiedler</td>\n",
       "      <td>689845</td>\n",
       "      <td>4,360,000</td>\n",
       "    </tr>\n",
       "  </tbody>\n",
       "</table>\n",
       "</div>"
      ],
      "text/plain": [
       "                                         Poster_Link  \\\n",
       "0  https://m.media-amazon.com/images/M/MV5BMDFkYT...   \n",
       "1  https://m.media-amazon.com/images/M/MV5BM2MyNj...   \n",
       "2  https://m.media-amazon.com/images/M/MV5BMTMxNT...   \n",
       "3  https://m.media-amazon.com/images/M/MV5BMWMwMG...   \n",
       "4  https://m.media-amazon.com/images/M/MV5BMWU4N2...   \n",
       "\n",
       "               Series_Title Released_Year Certificate  Runtime  \\\n",
       "0  The Shawshank Redemption          1994           A  142 min   \n",
       "1             The Godfather          1972           A  175 min   \n",
       "2           The Dark Knight          2008          UA  152 min   \n",
       "3    The Godfather: Part II          1974           A  202 min   \n",
       "4              12 Angry Men          1957           U   96 min   \n",
       "\n",
       "                  Genre  IMDB_Rating  \\\n",
       "0                 Drama          9.3   \n",
       "1          Crime, Drama          9.2   \n",
       "2  Action, Crime, Drama          9.0   \n",
       "3          Crime, Drama          9.0   \n",
       "4          Crime, Drama          9.0   \n",
       "\n",
       "                                            Overview  Meta_score  \\\n",
       "0  Two imprisoned men bond over a number of years...        80.0   \n",
       "1  An organized crime dynasty's aging patriarch t...       100.0   \n",
       "2  When the menace known as the Joker wreaks havo...        84.0   \n",
       "3  The early life and career of Vito Corleone in ...        90.0   \n",
       "4  A jury holdout attempts to prevent a miscarria...        96.0   \n",
       "\n",
       "               Director           Star1           Star2          Star3  \\\n",
       "0        Frank Darabont     Tim Robbins  Morgan Freeman     Bob Gunton   \n",
       "1  Francis Ford Coppola   Marlon Brando       Al Pacino     James Caan   \n",
       "2     Christopher Nolan  Christian Bale    Heath Ledger  Aaron Eckhart   \n",
       "3  Francis Ford Coppola       Al Pacino  Robert De Niro  Robert Duvall   \n",
       "4          Sidney Lumet     Henry Fonda     Lee J. Cobb  Martin Balsam   \n",
       "\n",
       "            Star4  No_of_Votes        Gross  \n",
       "0  William Sadler      2343110   28,341,469  \n",
       "1    Diane Keaton      1620367  134,966,411  \n",
       "2   Michael Caine      2303232  534,858,444  \n",
       "3    Diane Keaton      1129952   57,300,000  \n",
       "4    John Fiedler       689845    4,360,000  "
      ]
     },
     "execution_count": 3,
     "metadata": {},
     "output_type": "execute_result"
    }
   ],
   "source": [
    "df_movies.head()"
   ]
  },
  {
   "attachments": {},
   "cell_type": "markdown",
   "metadata": {},
   "source": [
    "### Tipos de dato"
   ]
  },
  {
   "cell_type": "code",
   "execution_count": 4,
   "metadata": {},
   "outputs": [
    {
     "data": {
      "text/plain": [
       "Poster_Link       object\n",
       "Series_Title      object\n",
       "Released_Year     object\n",
       "Certificate       object\n",
       "Runtime           object\n",
       "Genre             object\n",
       "IMDB_Rating      float64\n",
       "Overview          object\n",
       "Meta_score       float64\n",
       "Director          object\n",
       "Star1             object\n",
       "Star2             object\n",
       "Star3             object\n",
       "Star4             object\n",
       "No_of_Votes        int64\n",
       "Gross             object\n",
       "dtype: object"
      ]
     },
     "execution_count": 4,
     "metadata": {},
     "output_type": "execute_result"
    }
   ],
   "source": [
    "df_movies.dtypes"
   ]
  },
  {
   "cell_type": "code",
   "execution_count": 5,
   "metadata": {},
   "outputs": [
    {
     "data": {
      "text/plain": [
       "object     13\n",
       "float64     2\n",
       "int64       1\n",
       "dtype: int64"
      ]
     },
     "execution_count": 5,
     "metadata": {},
     "output_type": "execute_result"
    }
   ],
   "source": [
    "df_movies.dtypes.value_counts()"
   ]
  },
  {
   "attachments": {},
   "cell_type": "markdown",
   "metadata": {},
   "source": [
    "Tenemos 13 variables de texto que incluyen variables categóricas y algunas que requieren de preprocesamiento.\n",
    "Tenemos 3 variables numéricas que corresponden a cantidad de votos, ratings y scores. "
   ]
  },
  {
   "attachments": {},
   "cell_type": "markdown",
   "metadata": {},
   "source": [
    "### Número de features y observaciones"
   ]
  },
  {
   "cell_type": "code",
   "execution_count": 6,
   "metadata": {},
   "outputs": [
    {
     "data": {
      "text/plain": [
       "(1000, 16)"
      ]
     },
     "execution_count": 6,
     "metadata": {},
     "output_type": "execute_result"
    }
   ],
   "source": [
    "df_movies.shape"
   ]
  },
  {
   "attachments": {},
   "cell_type": "markdown",
   "metadata": {},
   "source": [
    "Tenemos 16 variables diferentes y 1000 observaciones (ejemplos) en el dataset."
   ]
  },
  {
   "attachments": {},
   "cell_type": "markdown",
   "metadata": {},
   "source": [
    "### Valores nulos"
   ]
  },
  {
   "cell_type": "code",
   "execution_count": 7,
   "metadata": {},
   "outputs": [
    {
     "data": {
      "text/plain": [
       "Poster_Link      False\n",
       "Series_Title     False\n",
       "Released_Year    False\n",
       "Certificate       True\n",
       "Runtime          False\n",
       "Genre            False\n",
       "IMDB_Rating      False\n",
       "Overview         False\n",
       "Meta_score        True\n",
       "Director         False\n",
       "Star1            False\n",
       "Star2            False\n",
       "Star3            False\n",
       "Star4            False\n",
       "No_of_Votes      False\n",
       "Gross             True\n",
       "dtype: bool"
      ]
     },
     "execution_count": 7,
     "metadata": {},
     "output_type": "execute_result"
    }
   ],
   "source": [
    "df_movies.isna().any()"
   ]
  },
  {
   "attachments": {},
   "cell_type": "markdown",
   "metadata": {},
   "source": [
    "Tenemos valores nulos explícitos en las variables 'Certificate', 'Meta_score' y 'Gross'"
   ]
  },
  {
   "cell_type": "code",
   "execution_count": 8,
   "metadata": {},
   "outputs": [
    {
     "data": {
      "text/plain": [
       "Poster_Link        0\n",
       "Series_Title       0\n",
       "Released_Year      0\n",
       "Certificate      101\n",
       "Runtime            0\n",
       "Genre              0\n",
       "IMDB_Rating        0\n",
       "Overview           0\n",
       "Meta_score       157\n",
       "Director           0\n",
       "Star1              0\n",
       "Star2              0\n",
       "Star3              0\n",
       "Star4              0\n",
       "No_of_Votes        0\n",
       "Gross            169\n",
       "dtype: int64"
      ]
     },
     "execution_count": 8,
     "metadata": {},
     "output_type": "execute_result"
    }
   ],
   "source": [
    "df_movies.isna().sum()"
   ]
  },
  {
   "attachments": {},
   "cell_type": "markdown",
   "metadata": {},
   "source": [
    "Al final se omiten las columnas Gross y Meta_Score, pues se espera que aporten poco a la decisión de recomendar una película. Se llenan los valores nulos con ceros."
   ]
  },
  {
   "cell_type": "code",
   "execution_count": 9,
   "metadata": {},
   "outputs": [],
   "source": [
    "df_movies.fillna(0, inplace = True)"
   ]
  },
  {
   "attachments": {},
   "cell_type": "markdown",
   "metadata": {},
   "source": [
    "## Ingeniería de features"
   ]
  },
  {
   "attachments": {},
   "cell_type": "markdown",
   "metadata": {},
   "source": [
    "### Gross"
   ]
  },
  {
   "attachments": {},
   "cell_type": "markdown",
   "metadata": {},
   "source": [
    "Gross debería ser una variable numérica pero su tipo es object, por lo que debemos analizarla."
   ]
  },
  {
   "cell_type": "code",
   "execution_count": 10,
   "metadata": {},
   "outputs": [
    {
     "data": {
      "text/plain": [
       "0     28,341,469\n",
       "1    134,966,411\n",
       "2    534,858,444\n",
       "3     57,300,000\n",
       "4      4,360,000\n",
       "Name: Gross, dtype: object"
      ]
     },
     "execution_count": 10,
     "metadata": {},
     "output_type": "execute_result"
    }
   ],
   "source": [
    "df_movies.Gross.head()"
   ]
  },
  {
   "cell_type": "code",
   "execution_count": 11,
   "metadata": {},
   "outputs": [],
   "source": [
    "df_movies.Gross = df_movies.Gross.apply(lambda x: float(str(x).replace(',','')))"
   ]
  },
  {
   "cell_type": "code",
   "execution_count": 12,
   "metadata": {},
   "outputs": [
    {
     "data": {
      "text/plain": [
       "0     28341469.0\n",
       "1    134966411.0\n",
       "2    534858444.0\n",
       "3     57300000.0\n",
       "4      4360000.0\n",
       "Name: Gross, dtype: float64"
      ]
     },
     "execution_count": 12,
     "metadata": {},
     "output_type": "execute_result"
    }
   ],
   "source": [
    "df_movies.Gross.head()"
   ]
  },
  {
   "attachments": {},
   "cell_type": "markdown",
   "metadata": {},
   "source": [
    "### Runtime"
   ]
  },
  {
   "attachments": {},
   "cell_type": "markdown",
   "metadata": {},
   "source": [
    "La variable \"runtime\" de la película debería ser numérica. Se debe corregir el formato"
   ]
  },
  {
   "cell_type": "code",
   "execution_count": 13,
   "metadata": {},
   "outputs": [
    {
     "data": {
      "text/plain": [
       "0      142 min\n",
       "1      175 min\n",
       "2      152 min\n",
       "3      202 min\n",
       "4       96 min\n",
       "        ...   \n",
       "995    115 min\n",
       "996    201 min\n",
       "997    118 min\n",
       "998     97 min\n",
       "999     86 min\n",
       "Name: Runtime, Length: 1000, dtype: object"
      ]
     },
     "execution_count": 13,
     "metadata": {},
     "output_type": "execute_result"
    }
   ],
   "source": [
    "df_movies.Runtime"
   ]
  },
  {
   "cell_type": "code",
   "execution_count": 14,
   "metadata": {},
   "outputs": [],
   "source": [
    "df_movies['Runtime'] = df_movies['Runtime'].apply(lambda x: float(x[0:-4]))"
   ]
  },
  {
   "attachments": {},
   "cell_type": "markdown",
   "metadata": {},
   "source": [
    "Se bucketiza (binning) para agrupar las películas según su duración y que las películas con muchos minutos no se recomienden entre sí solo por la duración. Queremos que sea un componente más para la decisión de la recomendación."
   ]
  },
  {
   "cell_type": "code",
   "execution_count": 15,
   "metadata": {},
   "outputs": [],
   "source": [
    "df_movies['Bucketized_Runtime'], cut_bin = pd.qcut(df_movies['Runtime'], q = 5, labels = [1, 2, 3, 4, 5], retbins = True)"
   ]
  },
  {
   "cell_type": "code",
   "execution_count": 16,
   "metadata": {},
   "outputs": [
    {
     "data": {
      "text/plain": [
       "0      4\n",
       "1      5\n",
       "2      5\n",
       "3      5\n",
       "4      1\n",
       "      ..\n",
       "995    3\n",
       "996    5\n",
       "997    3\n",
       "998    1\n",
       "999    1\n",
       "Name: Bucketized_Runtime, Length: 1000, dtype: category\n",
       "Categories (5, int64): [1 < 2 < 3 < 4 < 5]"
      ]
     },
     "execution_count": 16,
     "metadata": {},
     "output_type": "execute_result"
    }
   ],
   "source": [
    "df_movies['Bucketized_Runtime']"
   ]
  },
  {
   "attachments": {},
   "cell_type": "markdown",
   "metadata": {},
   "source": [
    "Se deben escalar los datos del runtime bucketizado para que de esta forma el modelo no tenga sesgo en esta variable."
   ]
  },
  {
   "cell_type": "code",
   "execution_count": 17,
   "metadata": {},
   "outputs": [],
   "source": [
    "scaler = MinMaxScaler()\n",
    "scaler.fit(df_movies[['Bucketized_Runtime']])\n",
    "df_movies[['Bucketized_Runtime']] = scaler.transform(df_movies[['Bucketized_Runtime']])"
   ]
  },
  {
   "attachments": {},
   "cell_type": "markdown",
   "metadata": {},
   "source": [
    "### Released Year"
   ]
  },
  {
   "attachments": {},
   "cell_type": "markdown",
   "metadata": {},
   "source": [
    "El año de lanzamiento puede ser agrupado en décadas. \n",
    "\n",
    "Hay 1 valor no numérico en la columna. Manualmente puede ser corregido. Apollo 13 es una película de 1995."
   ]
  },
  {
   "cell_type": "code",
   "execution_count": 18,
   "metadata": {},
   "outputs": [],
   "source": [
    "df_movies.loc[df_movies['Released_Year'] == 'PG', 'Released_Year'] = 1995\n",
    "df_movies['Released_Year'] = df_movies['Released_Year'].astype(int)"
   ]
  },
  {
   "cell_type": "code",
   "execution_count": 19,
   "metadata": {},
   "outputs": [],
   "source": [
    "df_movies['Decade'] = df_movies['Released_Year'].apply(lambda x: 90+int((x % 100)/10) if int((x % 100)/10) == 2 and int(x/100) == 19 else int((x % 100)/10)).astype(str)"
   ]
  },
  {
   "attachments": {},
   "cell_type": "markdown",
   "metadata": {},
   "source": [
    "Cada década tiene su número indicando la decena. La decada de 1920 se representa con \"92\"."
   ]
  },
  {
   "cell_type": "code",
   "execution_count": 20,
   "metadata": {},
   "outputs": [
    {
     "data": {
      "text/plain": [
       "1     0.242\n",
       "0     0.237\n",
       "9     0.151\n",
       "8     0.089\n",
       "7     0.076\n",
       "6     0.073\n",
       "5     0.056\n",
       "4     0.035\n",
       "3     0.024\n",
       "92    0.011\n",
       "2     0.006\n",
       "Name: Decade, dtype: float64"
      ]
     },
     "execution_count": 20,
     "metadata": {},
     "output_type": "execute_result"
    }
   ],
   "source": [
    "df_movies['Decade'].value_counts(normalize=True)"
   ]
  },
  {
   "attachments": {},
   "cell_type": "markdown",
   "metadata": {},
   "source": [
    "### Genre"
   ]
  },
  {
   "attachments": {},
   "cell_type": "markdown",
   "metadata": {},
   "source": [
    "Para la variable género hay algunas que tienen varios géneros en la misma columna."
   ]
  },
  {
   "cell_type": "code",
   "execution_count": 21,
   "metadata": {},
   "outputs": [
    {
     "data": {
      "text/plain": [
       "0                         Drama\n",
       "1                  Crime, Drama\n",
       "2          Action, Crime, Drama\n",
       "3                  Crime, Drama\n",
       "4                  Crime, Drama\n",
       "                 ...           \n",
       "995      Comedy, Drama, Romance\n",
       "996              Drama, Western\n",
       "997         Drama, Romance, War\n",
       "998                  Drama, War\n",
       "999    Crime, Mystery, Thriller\n",
       "Name: Genre, Length: 1000, dtype: object"
      ]
     },
     "execution_count": 21,
     "metadata": {},
     "output_type": "execute_result"
    }
   ],
   "source": [
    "df_movies.Genre"
   ]
  },
  {
   "cell_type": "code",
   "execution_count": 22,
   "metadata": {},
   "outputs": [],
   "source": [
    "# Esta lista contiene los géneros de todas las peliculas con las repeticiones correspondientes.\n",
    "generos_totales = [item for row in df_movies['Genre'].apply(lambda x: str(x).split(', ')) for item in row]"
   ]
  },
  {
   "attachments": {},
   "cell_type": "markdown",
   "metadata": {},
   "source": [
    "Codificamos la variable categórica del género de forma numérica. Se añade una columna por cada género y se agrega un 1 en la matriz si la película (fila) corresponde al género (columna)."
   ]
  },
  {
   "cell_type": "code",
   "execution_count": 23,
   "metadata": {},
   "outputs": [],
   "source": [
    "# Lista con los generos sin repeticion\n",
    "generos = list(set(generos_totales))\n",
    "\n",
    "df_genres = pd.DataFrame(np.zeros((1000, len(generos))))\n",
    "df_genres.columns = [f'Genre-{genre}' for genre in generos]\n",
    "\n",
    "df_movies = pd.concat([df_movies, df_genres], axis = 1)"
   ]
  },
  {
   "cell_type": "code",
   "execution_count": 24,
   "metadata": {},
   "outputs": [],
   "source": [
    "for index, row in df_movies.iterrows():\n",
    "    for genre in row['Genre'].split(', '):\n",
    "        df_movies.loc[index, 'Genre-'+genre] = 1"
   ]
  },
  {
   "attachments": {},
   "cell_type": "markdown",
   "metadata": {},
   "source": [
    "### Star"
   ]
  },
  {
   "attachments": {},
   "cell_type": "markdown",
   "metadata": {},
   "source": [
    "Las columnas \"Star\" representan actores, pero están separados en 4 columnas."
   ]
  },
  {
   "cell_type": "code",
   "execution_count": 25,
   "metadata": {},
   "outputs": [],
   "source": [
    "# Esta lista agrupa los actores de todas las películas con sus respectivas repeticiones.\n",
    "actores_totales = [item for index, row in df_movies.iterrows() for item in row[['Star1', 'Star2', 'Star3', 'Star4']]]"
   ]
  },
  {
   "attachments": {},
   "cell_type": "markdown",
   "metadata": {},
   "source": [
    "Codificamos la variable categórica de los actores de forma numérica"
   ]
  },
  {
   "cell_type": "code",
   "execution_count": 26,
   "metadata": {},
   "outputs": [],
   "source": [
    "actores = list(set(actores_totales))\n",
    "\n",
    "df_actores = pd.DataFrame(np.zeros((1000, len(actores))))\n",
    "df_actores.columns = [f'Star-{star}' for star in actores]\n",
    "\n",
    "df_movies = pd.concat([df_movies, df_actores], axis = 1)"
   ]
  },
  {
   "cell_type": "code",
   "execution_count": 27,
   "metadata": {},
   "outputs": [],
   "source": [
    "for index, row in df_movies.iterrows():\n",
    "    for star in row[[f'Star{i}' for i in range(1,5)]]:\n",
    "        df_movies.loc[index, f'Star-{star}'] = 1"
   ]
  },
  {
   "attachments": {},
   "cell_type": "markdown",
   "metadata": {},
   "source": [
    "### Codificar Director"
   ]
  },
  {
   "attachments": {},
   "cell_type": "markdown",
   "metadata": {},
   "source": [
    "Codificamos la variable director como numérica."
   ]
  },
  {
   "cell_type": "code",
   "execution_count": 28,
   "metadata": {},
   "outputs": [],
   "source": [
    "df_movies = pd.concat([df_movies, pd.get_dummies(df_movies['Director'])], axis = 1)"
   ]
  },
  {
   "attachments": {},
   "cell_type": "markdown",
   "metadata": {},
   "source": [
    "### Codificar Certificate"
   ]
  },
  {
   "attachments": {},
   "cell_type": "markdown",
   "metadata": {},
   "source": [
    "Codificamos la variable certificado como numérica"
   ]
  },
  {
   "cell_type": "code",
   "execution_count": 29,
   "metadata": {},
   "outputs": [],
   "source": [
    "df_movies = pd.concat([df_movies, pd.get_dummies(df_movies['Certificate'])], axis = 1)"
   ]
  },
  {
   "attachments": {},
   "cell_type": "markdown",
   "metadata": {},
   "source": [
    "### Palabras clave en Overview y Title"
   ]
  },
  {
   "attachments": {},
   "cell_type": "markdown",
   "metadata": {},
   "source": [
    "Extraer palabras clave del título y también del overview. Se toman las más importantes y se codifican de manera numérica con 1 y 0 similar a los features anteriores."
   ]
  },
  {
   "cell_type": "code",
   "execution_count": 30,
   "metadata": {},
   "outputs": [],
   "source": [
    "total_keywords = []\n",
    "for index, row in df_movies.iterrows():\n",
    "    rake = Rake()\n",
    "    rake.extract_keywords_from_text(row['Series_Title'] +  ' ' + row['Overview'])\n",
    "    keywords_dict_scores=rake.get_word_degrees()\n",
    "    total_keywords += list(keywords_dict_scores.keys())\n",
    "\n",
    "total_keywords = list(set(total_keywords))\n",
    "\n",
    "df_keywords = pd.DataFrame(np.zeros((1000, len(total_keywords))))\n",
    "df_keywords.columns = total_keywords\n",
    "\n",
    "for index, row in df_movies.iterrows():\n",
    "    rake = Rake()\n",
    "    rake.extract_keywords_from_text(row['Series_Title'] + ' ' + row['Overview'])\n",
    "    keywords_dict_scores=rake.get_word_degrees()\n",
    "    for keyword in list(keywords_dict_scores.keys()):\n",
    "        if keywords_dict_scores[keyword] in sorted(set(keywords_dict_scores.values()))[-3:] or keyword in row['Series_Title'].lower():\n",
    "            df_keywords.loc[index, keyword] = 1\n"
   ]
  },
  {
   "cell_type": "code",
   "execution_count": 31,
   "metadata": {},
   "outputs": [],
   "source": [
    "keywords_columns = df_keywords.sum(axis = 0) \n",
    "columns_to_drop = keywords_columns[keywords_columns <= 1].index\n",
    "\n",
    "df_keywords.drop(columns_to_drop, axis = 1, inplace = True)\n",
    "\n",
    "df_movies = pd.concat([df_movies, df_keywords], axis = 1)"
   ]
  },
  {
   "attachments": {},
   "cell_type": "markdown",
   "metadata": {},
   "source": [
    "## Proporciones"
   ]
  },
  {
   "attachments": {},
   "cell_type": "markdown",
   "metadata": {},
   "source": [
    "### Decade"
   ]
  },
  {
   "cell_type": "code",
   "execution_count": 32,
   "metadata": {},
   "outputs": [
    {
     "data": {
      "image/png": "[encoded data removed]",
      "text/plain": [
       "<Figure size 567.625x500 with 1 Axes>"
      ]
     },
     "metadata": {},
     "output_type": "display_data"
    }
   ],
   "source": [
    "# sns.catplot(data=df_movies, x='Decade', kind='count')\n",
    "df_movies['x']=''\n",
    "df_movies.pipe(lambda df: sns.displot(data=df, x='x', hue='Decade',multiple='fill', hue_order = ['92','3','4','5','6','7','8','9','0','1','2']))\n",
    "df_movies.drop('x', inplace = True, axis = 1)"
   ]
  },
  {
   "attachments": {},
   "cell_type": "markdown",
   "metadata": {},
   "source": [
    "Se observa que la cantidad de películas por década aumenta a medida que el tiempo avanza. Se consideran 100 años y los últimos 20 contienen aproximadamente el 50% de las películas del dataset."
   ]
  },
  {
   "attachments": {},
   "cell_type": "markdown",
   "metadata": {},
   "source": [
    "## Star"
   ]
  },
  {
   "cell_type": "code",
   "execution_count": 33,
   "metadata": {},
   "outputs": [
    {
     "data": {
      "text/plain": [
       "<AxesSubplot: xlabel='Actores', ylabel='count'>"
      ]
     },
     "execution_count": 33,
     "metadata": {},
     "output_type": "execute_result"
    },
    {
     "data": {
      "image/png": "[encoded data removed]",
      "text/plain": [
       "<Figure size 640x480 with 1 Axes>"
      ]
     },
     "metadata": {},
     "output_type": "display_data"
    }
   ],
   "source": [
    "df = pd.DataFrame(actores_totales)\n",
    "df.columns = ['Actores']\n",
    "plt.xticks(rotation=90)\n",
    "sns.countplot(data = df, x='Actores', order=pd.value_counts(pd.Series(actores_totales)).iloc[:30].index)"
   ]
  },
  {
   "attachments": {},
   "cell_type": "markdown",
   "metadata": {},
   "source": [
    "El top 3 de actores con mayor número de apariciones en las mejores 1000 películas de IMDB lo compone Robert de Niro, seguido de Tom Hanks y Al Pacino. Sería bueno considerar recomendar películas basadas en su cast."
   ]
  },
  {
   "attachments": {},
   "cell_type": "markdown",
   "metadata": {},
   "source": [
    "## Genre"
   ]
  },
  {
   "cell_type": "code",
   "execution_count": 34,
   "metadata": {},
   "outputs": [
    {
     "data": {
      "text/plain": [
       "<AxesSubplot: xlabel='Actores', ylabel='count'>"
      ]
     },
     "execution_count": 34,
     "metadata": {},
     "output_type": "execute_result"
    },
    {
     "data": {
      "image/png": "[encoded data removed]",
      "text/plain": [
       "<Figure size 640x480 with 1 Axes>"
      ]
     },
     "metadata": {},
     "output_type": "display_data"
    }
   ],
   "source": [
    "df = pd.DataFrame(generos_totales)\n",
    "df.columns = ['Actores']\n",
    "plt.xticks(rotation=90)\n",
    "sns.countplot(data = df, x='Actores', order=pd.value_counts(pd.Series(generos_totales)).index)"
   ]
  },
  {
   "attachments": {},
   "cell_type": "markdown",
   "metadata": {},
   "source": [
    "El género predominante, con diferencia es \"Drama\", seguido de \"Comedy\", y \"Crime\". Las películas recomendadas deben tener género similar."
   ]
  },
  {
   "attachments": {},
   "cell_type": "markdown",
   "metadata": {},
   "source": [
    "## Certificate"
   ]
  },
  {
   "cell_type": "code",
   "execution_count": 35,
   "metadata": {},
   "outputs": [
    {
     "data": {
      "text/plain": [
       "<AxesSubplot: xlabel='Certificate', ylabel='count'>"
      ]
     },
     "execution_count": 35,
     "metadata": {},
     "output_type": "execute_result"
    },
    {
     "data": {
      "image/png": "[encoded data removed]",
      "text/plain": [
       "<Figure size 640x480 with 1 Axes>"
      ]
     },
     "metadata": {},
     "output_type": "display_data"
    }
   ],
   "source": [
    "# sns.catplot(data=df_movies, x='Decade', kind='count')\n",
    "sns.countplot(data = df_movies, x='Certificate', order = df_movies['Certificate'].value_counts().index)"
   ]
  },
  {
   "attachments": {},
   "cell_type": "markdown",
   "metadata": {},
   "source": [
    "La categoría más abundante de películas corresponde a \"U\", que es para toda edad. Seguido de A y UA.\n",
    "Esta variable puede ser un indicador para recomendar películas para el mismo grupo de edades."
   ]
  },
  {
   "attachments": {},
   "cell_type": "markdown",
   "metadata": {},
   "source": [
    "## Distribuciones"
   ]
  },
  {
   "attachments": {},
   "cell_type": "markdown",
   "metadata": {},
   "source": [
    "### IMDB Rating"
   ]
  },
  {
   "cell_type": "code",
   "execution_count": 36,
   "metadata": {},
   "outputs": [
    {
     "data": {
      "text/plain": [
       "<matplotlib.lines.Line2D at 0x226c0da0bb0>"
      ]
     },
     "execution_count": 36,
     "metadata": {},
     "output_type": "execute_result"
    },
    {
     "data": {
      "image/png": "[encoded data removed]",
      "text/plain": [
       "<Figure size 640x480 with 1 Axes>"
      ]
     },
     "metadata": {},
     "output_type": "display_data"
    }
   ],
   "source": [
    "sns.histplot(data=df_movies, x='IMDB_Rating', kde=True)\n",
    "plt.axvline(x=df_movies['IMDB_Rating'].mean(), color ='red', linestyle='dashed', linewidth=2)"
   ]
  },
  {
   "attachments": {},
   "cell_type": "markdown",
   "metadata": {},
   "source": [
    "### Meta score"
   ]
  },
  {
   "cell_type": "code",
   "execution_count": 37,
   "metadata": {},
   "outputs": [
    {
     "data": {
      "text/plain": [
       "<AxesSubplot: xlabel='Meta_score', ylabel='Count'>"
      ]
     },
     "execution_count": 37,
     "metadata": {},
     "output_type": "execute_result"
    },
    {
     "data": {
      "image/png": "[encoded data removed]",
      "text/plain": [
       "<Figure size 640x480 with 1 Axes>"
      ]
     },
     "metadata": {},
     "output_type": "display_data"
    }
   ],
   "source": [
    "plt.axvline(x=df_movies[df_movies['Meta_score'] > 0]['Meta_score'].mean(), color ='red', linestyle='dashed', linewidth=2)\n",
    "sns.histplot(data=df_movies[df_movies['Meta_score'] > 0], x='Meta_score', kde=True)"
   ]
  },
  {
   "attachments": {},
   "cell_type": "markdown",
   "metadata": {},
   "source": [
    "### Gross"
   ]
  },
  {
   "cell_type": "code",
   "execution_count": 38,
   "metadata": {},
   "outputs": [
    {
     "data": {
      "text/plain": [
       "<AxesSubplot: xlabel='Gross', ylabel='Count'>"
      ]
     },
     "execution_count": 38,
     "metadata": {},
     "output_type": "execute_result"
    },
    {
     "data": {
      "image/png": "[encoded data removed]",
      "text/plain": [
       "<Figure size 640x480 with 1 Axes>"
      ]
     },
     "metadata": {},
     "output_type": "display_data"
    }
   ],
   "source": [
    "plt.axvline(x=df_movies[df_movies['Gross'] > 0]['Gross'].mean(), color ='red', linestyle='dashed', linewidth=2)\n",
    "sns.histplot(data=df_movies[df_movies['Gross'] > 0], x='Gross', kde=True)"
   ]
  },
  {
   "attachments": {},
   "cell_type": "markdown",
   "metadata": {},
   "source": [
    "### Runtime"
   ]
  },
  {
   "cell_type": "code",
   "execution_count": 39,
   "metadata": {},
   "outputs": [
    {
     "data": {
      "text/plain": [
       "<AxesSubplot: xlabel='Runtime', ylabel='Count'>"
      ]
     },
     "execution_count": 39,
     "metadata": {},
     "output_type": "execute_result"
    },
    {
     "data": {
      "image/png": "[encoded data removed]",
      "text/plain": [
       "<Figure size 640x480 with 1 Axes>"
      ]
     },
     "metadata": {},
     "output_type": "display_data"
    }
   ],
   "source": [
    "plt.axvline(x=df_movies[df_movies['Runtime'] > 0]['Runtime'].mean(), color ='red', linestyle='dashed', linewidth=2)\n",
    "sns.histplot(data=df_movies[df_movies['Runtime'] > 0], x='Runtime', kde=True)"
   ]
  },
  {
   "attachments": {},
   "cell_type": "markdown",
   "metadata": {},
   "source": [
    "### Se usa el título de la película como índice del DataFrame"
   ]
  },
  {
   "attachments": {},
   "cell_type": "markdown",
   "metadata": {},
   "source": [
    "Usamos como indice el nombre de la pelicula como índice para acceder con mayor facilidad"
   ]
  },
  {
   "attachments": {},
   "cell_type": "markdown",
   "metadata": {},
   "source": [
    "Primero se tiene que mirar si existen valores duplicados"
   ]
  },
  {
   "cell_type": "code",
   "execution_count": 40,
   "metadata": {},
   "outputs": [
    {
     "data": {
      "text/plain": [
       "1"
      ]
     },
     "execution_count": 40,
     "metadata": {},
     "output_type": "execute_result"
    }
   ],
   "source": [
    "len(df_movies)-df_movies['Series_Title'].nunique()"
   ]
  },
  {
   "attachments": {},
   "cell_type": "markdown",
   "metadata": {},
   "source": [
    "Hay 1 película duplicada, por lo que se revisa cual es y se agrega el año de release a su nombre para identificarlas."
   ]
  },
  {
   "cell_type": "code",
   "execution_count": 41,
   "metadata": {},
   "outputs": [
    {
     "data": {
      "text/html": [
       "<div>\n",
       "<style scoped>\n",
       "    .dataframe tbody tr th:only-of-type {\n",
       "        vertical-align: middle;\n",
       "    }\n",
       "\n",
       "    .dataframe tbody tr th {\n",
       "        vertical-align: top;\n",
       "    }\n",
       "\n",
       "    .dataframe thead th {\n",
       "        text-align: right;\n",
       "    }\n",
       "</style>\n",
       "<table border=\"1\" class=\"dataframe\">\n",
       "  <thead>\n",
       "    <tr style=\"text-align: right;\">\n",
       "      <th></th>\n",
       "      <th>Poster_Link</th>\n",
       "      <th>Series_Title</th>\n",
       "      <th>Released_Year</th>\n",
       "      <th>Certificate</th>\n",
       "      <th>Runtime</th>\n",
       "      <th>Genre</th>\n",
       "      <th>IMDB_Rating</th>\n",
       "      <th>Overview</th>\n",
       "      <th>Meta_score</th>\n",
       "      <th>Director</th>\n",
       "      <th>...</th>\n",
       "      <th>night</th>\n",
       "      <th>collide</th>\n",
       "      <th>town</th>\n",
       "      <th>regime</th>\n",
       "      <th>spree</th>\n",
       "      <th>pig</th>\n",
       "      <th>club</th>\n",
       "      <th>innocent</th>\n",
       "      <th>revolt</th>\n",
       "      <th>terrible</th>\n",
       "    </tr>\n",
       "  </thead>\n",
       "  <tbody>\n",
       "    <tr>\n",
       "      <th>136</th>\n",
       "      <td>https://m.media-amazon.com/images/M/MV5BYmJhZm...</td>\n",
       "      <td>Drishyam</td>\n",
       "      <td>2015</td>\n",
       "      <td>UA</td>\n",
       "      <td>163.0</td>\n",
       "      <td>Crime, Drama, Mystery</td>\n",
       "      <td>8.2</td>\n",
       "      <td>Desperate measures are taken by a man who trie...</td>\n",
       "      <td>0.0</td>\n",
       "      <td>Nishikant Kamat</td>\n",
       "      <td>...</td>\n",
       "      <td>0.0</td>\n",
       "      <td>0.0</td>\n",
       "      <td>0.0</td>\n",
       "      <td>0.0</td>\n",
       "      <td>0.0</td>\n",
       "      <td>0.0</td>\n",
       "      <td>0.0</td>\n",
       "      <td>0.0</td>\n",
       "      <td>0.0</td>\n",
       "      <td>0.0</td>\n",
       "    </tr>\n",
       "  </tbody>\n",
       "</table>\n",
       "<p>1 rows × 5319 columns</p>\n",
       "</div>"
      ],
      "text/plain": [
       "                                           Poster_Link Series_Title  \\\n",
       "136  https://m.media-amazon.com/images/M/MV5BYmJhZm...     Drishyam   \n",
       "\n",
       "     Released_Year Certificate  Runtime                  Genre  IMDB_Rating  \\\n",
       "136           2015          UA    163.0  Crime, Drama, Mystery          8.2   \n",
       "\n",
       "                                              Overview  Meta_score  \\\n",
       "136  Desperate measures are taken by a man who trie...         0.0   \n",
       "\n",
       "            Director  ... night collide town regime  spree  pig  club  \\\n",
       "136  Nishikant Kamat  ...   0.0     0.0  0.0    0.0    0.0  0.0   0.0   \n",
       "\n",
       "    innocent  revolt  terrible  \n",
       "136      0.0     0.0       0.0  \n",
       "\n",
       "[1 rows x 5319 columns]"
      ]
     },
     "execution_count": 41,
     "metadata": {},
     "output_type": "execute_result"
    }
   ],
   "source": [
    "df_movies[df_movies['Series_Title'].duplicated()]"
   ]
  },
  {
   "cell_type": "code",
   "execution_count": 42,
   "metadata": {},
   "outputs": [
    {
     "data": {
      "text/html": [
       "<div>\n",
       "<style scoped>\n",
       "    .dataframe tbody tr th:only-of-type {\n",
       "        vertical-align: middle;\n",
       "    }\n",
       "\n",
       "    .dataframe tbody tr th {\n",
       "        vertical-align: top;\n",
       "    }\n",
       "\n",
       "    .dataframe thead th {\n",
       "        text-align: right;\n",
       "    }\n",
       "</style>\n",
       "<table border=\"1\" class=\"dataframe\">\n",
       "  <thead>\n",
       "    <tr style=\"text-align: right;\">\n",
       "      <th></th>\n",
       "      <th>Poster_Link</th>\n",
       "      <th>Series_Title</th>\n",
       "      <th>Released_Year</th>\n",
       "      <th>Certificate</th>\n",
       "      <th>Runtime</th>\n",
       "      <th>Genre</th>\n",
       "      <th>IMDB_Rating</th>\n",
       "      <th>Overview</th>\n",
       "      <th>Meta_score</th>\n",
       "      <th>Director</th>\n",
       "      <th>...</th>\n",
       "      <th>night</th>\n",
       "      <th>collide</th>\n",
       "      <th>town</th>\n",
       "      <th>regime</th>\n",
       "      <th>spree</th>\n",
       "      <th>pig</th>\n",
       "      <th>club</th>\n",
       "      <th>innocent</th>\n",
       "      <th>revolt</th>\n",
       "      <th>terrible</th>\n",
       "    </tr>\n",
       "  </thead>\n",
       "  <tbody>\n",
       "    <tr>\n",
       "      <th>87</th>\n",
       "      <td>https://m.media-amazon.com/images/M/MV5BYmY3Mz...</td>\n",
       "      <td>Drishyam</td>\n",
       "      <td>2013</td>\n",
       "      <td>U</td>\n",
       "      <td>160.0</td>\n",
       "      <td>Crime, Drama, Thriller</td>\n",
       "      <td>8.3</td>\n",
       "      <td>A man goes to extreme lengths to save his fami...</td>\n",
       "      <td>0.0</td>\n",
       "      <td>Jeethu Joseph</td>\n",
       "      <td>...</td>\n",
       "      <td>0.0</td>\n",
       "      <td>0.0</td>\n",
       "      <td>0.0</td>\n",
       "      <td>0.0</td>\n",
       "      <td>0.0</td>\n",
       "      <td>0.0</td>\n",
       "      <td>0.0</td>\n",
       "      <td>0.0</td>\n",
       "      <td>0.0</td>\n",
       "      <td>0.0</td>\n",
       "    </tr>\n",
       "    <tr>\n",
       "      <th>136</th>\n",
       "      <td>https://m.media-amazon.com/images/M/MV5BYmJhZm...</td>\n",
       "      <td>Drishyam</td>\n",
       "      <td>2015</td>\n",
       "      <td>UA</td>\n",
       "      <td>163.0</td>\n",
       "      <td>Crime, Drama, Mystery</td>\n",
       "      <td>8.2</td>\n",
       "      <td>Desperate measures are taken by a man who trie...</td>\n",
       "      <td>0.0</td>\n",
       "      <td>Nishikant Kamat</td>\n",
       "      <td>...</td>\n",
       "      <td>0.0</td>\n",
       "      <td>0.0</td>\n",
       "      <td>0.0</td>\n",
       "      <td>0.0</td>\n",
       "      <td>0.0</td>\n",
       "      <td>0.0</td>\n",
       "      <td>0.0</td>\n",
       "      <td>0.0</td>\n",
       "      <td>0.0</td>\n",
       "      <td>0.0</td>\n",
       "    </tr>\n",
       "  </tbody>\n",
       "</table>\n",
       "<p>2 rows × 5319 columns</p>\n",
       "</div>"
      ],
      "text/plain": [
       "                                           Poster_Link Series_Title  \\\n",
       "87   https://m.media-amazon.com/images/M/MV5BYmY3Mz...     Drishyam   \n",
       "136  https://m.media-amazon.com/images/M/MV5BYmJhZm...     Drishyam   \n",
       "\n",
       "     Released_Year Certificate  Runtime                   Genre  IMDB_Rating  \\\n",
       "87            2013           U    160.0  Crime, Drama, Thriller          8.3   \n",
       "136           2015          UA    163.0   Crime, Drama, Mystery          8.2   \n",
       "\n",
       "                                              Overview  Meta_score  \\\n",
       "87   A man goes to extreme lengths to save his fami...         0.0   \n",
       "136  Desperate measures are taken by a man who trie...         0.0   \n",
       "\n",
       "            Director  ... night collide town regime  spree  pig  club  \\\n",
       "87     Jeethu Joseph  ...   0.0     0.0  0.0    0.0    0.0  0.0   0.0   \n",
       "136  Nishikant Kamat  ...   0.0     0.0  0.0    0.0    0.0  0.0   0.0   \n",
       "\n",
       "    innocent  revolt  terrible  \n",
       "87       0.0     0.0       0.0  \n",
       "136      0.0     0.0       0.0  \n",
       "\n",
       "[2 rows x 5319 columns]"
      ]
     },
     "execution_count": 42,
     "metadata": {},
     "output_type": "execute_result"
    }
   ],
   "source": [
    "df_movies[df_movies['Series_Title'] == 'Drishyam']"
   ]
  },
  {
   "cell_type": "code",
   "execution_count": 43,
   "metadata": {},
   "outputs": [],
   "source": [
    "df_movies.loc[87,'Series_Title'] = 'Drishyam-2013'\n",
    "df_movies.loc[136,'Series_Title'] = 'Drishyam-2015'\n",
    "\n",
    "df_movies_original.loc[87,'Series_Title'] = 'Drishyam-2013'\n",
    "df_movies_original.loc[136,'Series_Title'] = 'Drishyam-2015'"
   ]
  },
  {
   "cell_type": "code",
   "execution_count": 44,
   "metadata": {},
   "outputs": [],
   "source": [
    "df_movies.set_index('Series_Title', drop=True, inplace = True)"
   ]
  },
  {
   "attachments": {},
   "cell_type": "markdown",
   "metadata": {},
   "source": [
    "### Se eliminan columnas innecesarias"
   ]
  },
  {
   "attachments": {},
   "cell_type": "markdown",
   "metadata": {},
   "source": [
    "Se eliminan las columnas que no se necesitan"
   ]
  },
  {
   "cell_type": "code",
   "execution_count": 45,
   "metadata": {},
   "outputs": [],
   "source": [
    "df_movies.drop(['Decade', 'IMDB_Rating', 'Runtime', 'Meta_score', 'Gross', 'Poster_Link', 'No_of_Votes', 'Released_Year', 'Certificate', 'Genre', 'Overview', 'Star1', 'Star2','Star3','Star4','Director'], axis = 1, inplace = True)"
   ]
  },
  {
   "attachments": {},
   "cell_type": "markdown",
   "metadata": {},
   "source": [
    "Se eliminan columnas que solo tienen una coincidencia, pues esta información no es relevante para recomendar otras películas. Por ejemplo, un actor que solo aparece en una película no aporta valor para recomendar otra película basado en el cast."
   ]
  },
  {
   "cell_type": "code",
   "execution_count": 46,
   "metadata": {},
   "outputs": [],
   "source": [
    "vertical_sum = df_movies.sum(axis = 0)\n",
    "columns_to_drop = list(vertical_sum[vertical_sum <= 1].index)\n",
    "\n",
    "if 'Bucketized_Runtime' in columns_to_drop:\n",
    "    columns_to_drop.remove('Bucketized_Runtime')\n",
    "\n",
    "df_movies.drop(columns_to_drop, axis = 1, inplace = True)"
   ]
  },
  {
   "cell_type": "code",
   "execution_count": 47,
   "metadata": {},
   "outputs": [
    {
     "data": {
      "text/html": [
       "<div>\n",
       "<style scoped>\n",
       "    .dataframe tbody tr th:only-of-type {\n",
       "        vertical-align: middle;\n",
       "    }\n",
       "\n",
       "    .dataframe tbody tr th {\n",
       "        vertical-align: top;\n",
       "    }\n",
       "\n",
       "    .dataframe thead th {\n",
       "        text-align: right;\n",
       "    }\n",
       "</style>\n",
       "<table border=\"1\" class=\"dataframe\">\n",
       "  <thead>\n",
       "    <tr style=\"text-align: right;\">\n",
       "      <th></th>\n",
       "      <th>Bucketized_Runtime</th>\n",
       "      <th>Genre-War</th>\n",
       "      <th>Genre-Western</th>\n",
       "      <th>Genre-Romance</th>\n",
       "      <th>Genre-Adventure</th>\n",
       "      <th>Genre-Fantasy</th>\n",
       "      <th>Genre-Crime</th>\n",
       "      <th>Genre-History</th>\n",
       "      <th>Genre-Animation</th>\n",
       "      <th>Genre-Drama</th>\n",
       "      <th>...</th>\n",
       "      <th>night</th>\n",
       "      <th>collide</th>\n",
       "      <th>town</th>\n",
       "      <th>regime</th>\n",
       "      <th>spree</th>\n",
       "      <th>pig</th>\n",
       "      <th>club</th>\n",
       "      <th>innocent</th>\n",
       "      <th>revolt</th>\n",
       "      <th>terrible</th>\n",
       "    </tr>\n",
       "    <tr>\n",
       "      <th>Series_Title</th>\n",
       "      <th></th>\n",
       "      <th></th>\n",
       "      <th></th>\n",
       "      <th></th>\n",
       "      <th></th>\n",
       "      <th></th>\n",
       "      <th></th>\n",
       "      <th></th>\n",
       "      <th></th>\n",
       "      <th></th>\n",
       "      <th></th>\n",
       "      <th></th>\n",
       "      <th></th>\n",
       "      <th></th>\n",
       "      <th></th>\n",
       "      <th></th>\n",
       "      <th></th>\n",
       "      <th></th>\n",
       "      <th></th>\n",
       "      <th></th>\n",
       "      <th></th>\n",
       "    </tr>\n",
       "  </thead>\n",
       "  <tbody>\n",
       "    <tr>\n",
       "      <th>The Shawshank Redemption</th>\n",
       "      <td>0.75</td>\n",
       "      <td>0.0</td>\n",
       "      <td>0.0</td>\n",
       "      <td>0.0</td>\n",
       "      <td>0.0</td>\n",
       "      <td>0.0</td>\n",
       "      <td>0.0</td>\n",
       "      <td>0.0</td>\n",
       "      <td>0.0</td>\n",
       "      <td>1.0</td>\n",
       "      <td>...</td>\n",
       "      <td>0.0</td>\n",
       "      <td>0.0</td>\n",
       "      <td>0.0</td>\n",
       "      <td>0.0</td>\n",
       "      <td>0.0</td>\n",
       "      <td>0.0</td>\n",
       "      <td>0.0</td>\n",
       "      <td>0.0</td>\n",
       "      <td>0.0</td>\n",
       "      <td>0.0</td>\n",
       "    </tr>\n",
       "    <tr>\n",
       "      <th>The Godfather</th>\n",
       "      <td>1.00</td>\n",
       "      <td>0.0</td>\n",
       "      <td>0.0</td>\n",
       "      <td>0.0</td>\n",
       "      <td>0.0</td>\n",
       "      <td>0.0</td>\n",
       "      <td>1.0</td>\n",
       "      <td>0.0</td>\n",
       "      <td>0.0</td>\n",
       "      <td>1.0</td>\n",
       "      <td>...</td>\n",
       "      <td>0.0</td>\n",
       "      <td>0.0</td>\n",
       "      <td>0.0</td>\n",
       "      <td>0.0</td>\n",
       "      <td>0.0</td>\n",
       "      <td>0.0</td>\n",
       "      <td>0.0</td>\n",
       "      <td>0.0</td>\n",
       "      <td>0.0</td>\n",
       "      <td>0.0</td>\n",
       "    </tr>\n",
       "    <tr>\n",
       "      <th>The Dark Knight</th>\n",
       "      <td>1.00</td>\n",
       "      <td>0.0</td>\n",
       "      <td>0.0</td>\n",
       "      <td>0.0</td>\n",
       "      <td>0.0</td>\n",
       "      <td>0.0</td>\n",
       "      <td>1.0</td>\n",
       "      <td>0.0</td>\n",
       "      <td>0.0</td>\n",
       "      <td>1.0</td>\n",
       "      <td>...</td>\n",
       "      <td>0.0</td>\n",
       "      <td>0.0</td>\n",
       "      <td>0.0</td>\n",
       "      <td>0.0</td>\n",
       "      <td>0.0</td>\n",
       "      <td>0.0</td>\n",
       "      <td>0.0</td>\n",
       "      <td>0.0</td>\n",
       "      <td>0.0</td>\n",
       "      <td>0.0</td>\n",
       "    </tr>\n",
       "    <tr>\n",
       "      <th>The Godfather: Part II</th>\n",
       "      <td>1.00</td>\n",
       "      <td>0.0</td>\n",
       "      <td>0.0</td>\n",
       "      <td>0.0</td>\n",
       "      <td>0.0</td>\n",
       "      <td>0.0</td>\n",
       "      <td>1.0</td>\n",
       "      <td>0.0</td>\n",
       "      <td>0.0</td>\n",
       "      <td>1.0</td>\n",
       "      <td>...</td>\n",
       "      <td>0.0</td>\n",
       "      <td>0.0</td>\n",
       "      <td>0.0</td>\n",
       "      <td>0.0</td>\n",
       "      <td>0.0</td>\n",
       "      <td>0.0</td>\n",
       "      <td>0.0</td>\n",
       "      <td>0.0</td>\n",
       "      <td>0.0</td>\n",
       "      <td>0.0</td>\n",
       "    </tr>\n",
       "    <tr>\n",
       "      <th>12 Angry Men</th>\n",
       "      <td>0.00</td>\n",
       "      <td>0.0</td>\n",
       "      <td>0.0</td>\n",
       "      <td>0.0</td>\n",
       "      <td>0.0</td>\n",
       "      <td>0.0</td>\n",
       "      <td>1.0</td>\n",
       "      <td>0.0</td>\n",
       "      <td>0.0</td>\n",
       "      <td>1.0</td>\n",
       "      <td>...</td>\n",
       "      <td>0.0</td>\n",
       "      <td>0.0</td>\n",
       "      <td>0.0</td>\n",
       "      <td>0.0</td>\n",
       "      <td>0.0</td>\n",
       "      <td>0.0</td>\n",
       "      <td>0.0</td>\n",
       "      <td>0.0</td>\n",
       "      <td>0.0</td>\n",
       "      <td>0.0</td>\n",
       "    </tr>\n",
       "    <tr>\n",
       "      <th>...</th>\n",
       "      <td>...</td>\n",
       "      <td>...</td>\n",
       "      <td>...</td>\n",
       "      <td>...</td>\n",
       "      <td>...</td>\n",
       "      <td>...</td>\n",
       "      <td>...</td>\n",
       "      <td>...</td>\n",
       "      <td>...</td>\n",
       "      <td>...</td>\n",
       "      <td>...</td>\n",
       "      <td>...</td>\n",
       "      <td>...</td>\n",
       "      <td>...</td>\n",
       "      <td>...</td>\n",
       "      <td>...</td>\n",
       "      <td>...</td>\n",
       "      <td>...</td>\n",
       "      <td>...</td>\n",
       "      <td>...</td>\n",
       "      <td>...</td>\n",
       "    </tr>\n",
       "    <tr>\n",
       "      <th>Breakfast at Tiffany's</th>\n",
       "      <td>0.50</td>\n",
       "      <td>0.0</td>\n",
       "      <td>0.0</td>\n",
       "      <td>1.0</td>\n",
       "      <td>0.0</td>\n",
       "      <td>0.0</td>\n",
       "      <td>0.0</td>\n",
       "      <td>0.0</td>\n",
       "      <td>0.0</td>\n",
       "      <td>1.0</td>\n",
       "      <td>...</td>\n",
       "      <td>0.0</td>\n",
       "      <td>0.0</td>\n",
       "      <td>0.0</td>\n",
       "      <td>0.0</td>\n",
       "      <td>0.0</td>\n",
       "      <td>0.0</td>\n",
       "      <td>0.0</td>\n",
       "      <td>0.0</td>\n",
       "      <td>0.0</td>\n",
       "      <td>0.0</td>\n",
       "    </tr>\n",
       "    <tr>\n",
       "      <th>Giant</th>\n",
       "      <td>1.00</td>\n",
       "      <td>0.0</td>\n",
       "      <td>1.0</td>\n",
       "      <td>0.0</td>\n",
       "      <td>0.0</td>\n",
       "      <td>0.0</td>\n",
       "      <td>0.0</td>\n",
       "      <td>0.0</td>\n",
       "      <td>0.0</td>\n",
       "      <td>1.0</td>\n",
       "      <td>...</td>\n",
       "      <td>0.0</td>\n",
       "      <td>0.0</td>\n",
       "      <td>0.0</td>\n",
       "      <td>0.0</td>\n",
       "      <td>0.0</td>\n",
       "      <td>0.0</td>\n",
       "      <td>0.0</td>\n",
       "      <td>0.0</td>\n",
       "      <td>0.0</td>\n",
       "      <td>0.0</td>\n",
       "    </tr>\n",
       "    <tr>\n",
       "      <th>From Here to Eternity</th>\n",
       "      <td>0.50</td>\n",
       "      <td>1.0</td>\n",
       "      <td>0.0</td>\n",
       "      <td>1.0</td>\n",
       "      <td>0.0</td>\n",
       "      <td>0.0</td>\n",
       "      <td>0.0</td>\n",
       "      <td>0.0</td>\n",
       "      <td>0.0</td>\n",
       "      <td>1.0</td>\n",
       "      <td>...</td>\n",
       "      <td>0.0</td>\n",
       "      <td>0.0</td>\n",
       "      <td>0.0</td>\n",
       "      <td>0.0</td>\n",
       "      <td>0.0</td>\n",
       "      <td>0.0</td>\n",
       "      <td>0.0</td>\n",
       "      <td>0.0</td>\n",
       "      <td>0.0</td>\n",
       "      <td>0.0</td>\n",
       "    </tr>\n",
       "    <tr>\n",
       "      <th>Lifeboat</th>\n",
       "      <td>0.00</td>\n",
       "      <td>1.0</td>\n",
       "      <td>0.0</td>\n",
       "      <td>0.0</td>\n",
       "      <td>0.0</td>\n",
       "      <td>0.0</td>\n",
       "      <td>0.0</td>\n",
       "      <td>0.0</td>\n",
       "      <td>0.0</td>\n",
       "      <td>1.0</td>\n",
       "      <td>...</td>\n",
       "      <td>0.0</td>\n",
       "      <td>0.0</td>\n",
       "      <td>0.0</td>\n",
       "      <td>0.0</td>\n",
       "      <td>0.0</td>\n",
       "      <td>0.0</td>\n",
       "      <td>0.0</td>\n",
       "      <td>0.0</td>\n",
       "      <td>0.0</td>\n",
       "      <td>0.0</td>\n",
       "    </tr>\n",
       "    <tr>\n",
       "      <th>The 39 Steps</th>\n",
       "      <td>0.00</td>\n",
       "      <td>0.0</td>\n",
       "      <td>0.0</td>\n",
       "      <td>0.0</td>\n",
       "      <td>0.0</td>\n",
       "      <td>0.0</td>\n",
       "      <td>1.0</td>\n",
       "      <td>0.0</td>\n",
       "      <td>0.0</td>\n",
       "      <td>0.0</td>\n",
       "      <td>...</td>\n",
       "      <td>0.0</td>\n",
       "      <td>0.0</td>\n",
       "      <td>0.0</td>\n",
       "      <td>0.0</td>\n",
       "      <td>0.0</td>\n",
       "      <td>0.0</td>\n",
       "      <td>0.0</td>\n",
       "      <td>0.0</td>\n",
       "      <td>0.0</td>\n",
       "      <td>0.0</td>\n",
       "    </tr>\n",
       "  </tbody>\n",
       "</table>\n",
       "<p>1000 rows × 2877 columns</p>\n",
       "</div>"
      ],
      "text/plain": [
       "                          Bucketized_Runtime  Genre-War  Genre-Western  \\\n",
       "Series_Title                                                             \n",
       "The Shawshank Redemption                0.75        0.0            0.0   \n",
       "The Godfather                           1.00        0.0            0.0   \n",
       "The Dark Knight                         1.00        0.0            0.0   \n",
       "The Godfather: Part II                  1.00        0.0            0.0   \n",
       "12 Angry Men                            0.00        0.0            0.0   \n",
       "...                                      ...        ...            ...   \n",
       "Breakfast at Tiffany's                  0.50        0.0            0.0   \n",
       "Giant                                   1.00        0.0            1.0   \n",
       "From Here to Eternity                   0.50        1.0            0.0   \n",
       "Lifeboat                                0.00        1.0            0.0   \n",
       "The 39 Steps                            0.00        0.0            0.0   \n",
       "\n",
       "                          Genre-Romance  Genre-Adventure  Genre-Fantasy  \\\n",
       "Series_Title                                                              \n",
       "The Shawshank Redemption            0.0              0.0            0.0   \n",
       "The Godfather                       0.0              0.0            0.0   \n",
       "The Dark Knight                     0.0              0.0            0.0   \n",
       "The Godfather: Part II              0.0              0.0            0.0   \n",
       "12 Angry Men                        0.0              0.0            0.0   \n",
       "...                                 ...              ...            ...   \n",
       "Breakfast at Tiffany's              1.0              0.0            0.0   \n",
       "Giant                               0.0              0.0            0.0   \n",
       "From Here to Eternity               1.0              0.0            0.0   \n",
       "Lifeboat                            0.0              0.0            0.0   \n",
       "The 39 Steps                        0.0              0.0            0.0   \n",
       "\n",
       "                          Genre-Crime  Genre-History  Genre-Animation  \\\n",
       "Series_Title                                                            \n",
       "The Shawshank Redemption          0.0            0.0              0.0   \n",
       "The Godfather                     1.0            0.0              0.0   \n",
       "The Dark Knight                   1.0            0.0              0.0   \n",
       "The Godfather: Part II            1.0            0.0              0.0   \n",
       "12 Angry Men                      1.0            0.0              0.0   \n",
       "...                               ...            ...              ...   \n",
       "Breakfast at Tiffany's            0.0            0.0              0.0   \n",
       "Giant                             0.0            0.0              0.0   \n",
       "From Here to Eternity             0.0            0.0              0.0   \n",
       "Lifeboat                          0.0            0.0              0.0   \n",
       "The 39 Steps                      1.0            0.0              0.0   \n",
       "\n",
       "                          Genre-Drama  ...  night  collide  town  regime  \\\n",
       "Series_Title                           ...                                 \n",
       "The Shawshank Redemption          1.0  ...    0.0      0.0   0.0     0.0   \n",
       "The Godfather                     1.0  ...    0.0      0.0   0.0     0.0   \n",
       "The Dark Knight                   1.0  ...    0.0      0.0   0.0     0.0   \n",
       "The Godfather: Part II            1.0  ...    0.0      0.0   0.0     0.0   \n",
       "12 Angry Men                      1.0  ...    0.0      0.0   0.0     0.0   \n",
       "...                               ...  ...    ...      ...   ...     ...   \n",
       "Breakfast at Tiffany's            1.0  ...    0.0      0.0   0.0     0.0   \n",
       "Giant                             1.0  ...    0.0      0.0   0.0     0.0   \n",
       "From Here to Eternity             1.0  ...    0.0      0.0   0.0     0.0   \n",
       "Lifeboat                          1.0  ...    0.0      0.0   0.0     0.0   \n",
       "The 39 Steps                      0.0  ...    0.0      0.0   0.0     0.0   \n",
       "\n",
       "                          spree  pig  club  innocent  revolt  terrible  \n",
       "Series_Title                                                            \n",
       "The Shawshank Redemption    0.0  0.0   0.0       0.0     0.0       0.0  \n",
       "The Godfather               0.0  0.0   0.0       0.0     0.0       0.0  \n",
       "The Dark Knight             0.0  0.0   0.0       0.0     0.0       0.0  \n",
       "The Godfather: Part II      0.0  0.0   0.0       0.0     0.0       0.0  \n",
       "12 Angry Men                0.0  0.0   0.0       0.0     0.0       0.0  \n",
       "...                         ...  ...   ...       ...     ...       ...  \n",
       "Breakfast at Tiffany's      0.0  0.0   0.0       0.0     0.0       0.0  \n",
       "Giant                       0.0  0.0   0.0       0.0     0.0       0.0  \n",
       "From Here to Eternity       0.0  0.0   0.0       0.0     0.0       0.0  \n",
       "Lifeboat                    0.0  0.0   0.0       0.0     0.0       0.0  \n",
       "The 39 Steps                0.0  0.0   0.0       0.0     0.0       0.0  \n",
       "\n",
       "[1000 rows x 2877 columns]"
      ]
     },
     "execution_count": 47,
     "metadata": {},
     "output_type": "execute_result"
    }
   ],
   "source": [
    "df_movies"
   ]
  },
  {
   "cell_type": "code",
   "execution_count": 48,
   "metadata": {},
   "outputs": [],
   "source": [
    "df_movies.to_csv('../datasets/processed_movies.csv', index = True)"
   ]
  },
  {
   "attachments": {},
   "cell_type": "markdown",
   "metadata": {},
   "source": [
    "## Prueba de recomendaciones con similaridad de coseno"
   ]
  },
  {
   "attachments": {},
   "cell_type": "markdown",
   "metadata": {},
   "source": [
    "Se prueba hacer recomendaciones para alguien que vio \"The Avengers\""
   ]
  },
  {
   "cell_type": "code",
   "execution_count": 49,
   "metadata": {},
   "outputs": [],
   "source": [
    "def cosine_similarity(A):\n",
    "    cosine = np.dot(A,PELICULA_ESCOGIDA)/(np.linalg.norm(A)*np.linalg.norm(PELICULA_ESCOGIDA))\n",
    "    return cosine"
   ]
  },
  {
   "cell_type": "code",
   "execution_count": 50,
   "metadata": {},
   "outputs": [],
   "source": [
    "peliculas = df_movies.index\n",
    "PELICULA_ESCOGIDA = df_movies.loc['The Avengers']\n",
    "\n",
    "similar_movies = sorted(peliculas, key=lambda x: cosine_similarity(df_movies.loc[x]), reverse = True)"
   ]
  },
  {
   "cell_type": "code",
   "execution_count": 51,
   "metadata": {},
   "outputs": [],
   "source": [
    "df_movies_original.set_index('Series_Title', drop = True, inplace = True)"
   ]
  },
  {
   "cell_type": "code",
   "execution_count": 52,
   "metadata": {},
   "outputs": [
    {
     "data": {
      "text/html": [
       "<div>\n",
       "<style scoped>\n",
       "    .dataframe tbody tr th:only-of-type {\n",
       "        vertical-align: middle;\n",
       "    }\n",
       "\n",
       "    .dataframe tbody tr th {\n",
       "        vertical-align: top;\n",
       "    }\n",
       "\n",
       "    .dataframe thead th {\n",
       "        text-align: right;\n",
       "    }\n",
       "</style>\n",
       "<table border=\"1\" class=\"dataframe\">\n",
       "  <thead>\n",
       "    <tr style=\"text-align: right;\">\n",
       "      <th></th>\n",
       "      <th>Poster_Link</th>\n",
       "      <th>Released_Year</th>\n",
       "      <th>Certificate</th>\n",
       "      <th>Runtime</th>\n",
       "      <th>Genre</th>\n",
       "      <th>IMDB_Rating</th>\n",
       "      <th>Overview</th>\n",
       "      <th>Meta_score</th>\n",
       "      <th>Director</th>\n",
       "      <th>Star1</th>\n",
       "      <th>Star2</th>\n",
       "      <th>Star3</th>\n",
       "      <th>Star4</th>\n",
       "      <th>No_of_Votes</th>\n",
       "      <th>Gross</th>\n",
       "    </tr>\n",
       "    <tr>\n",
       "      <th>Series_Title</th>\n",
       "      <th></th>\n",
       "      <th></th>\n",
       "      <th></th>\n",
       "      <th></th>\n",
       "      <th></th>\n",
       "      <th></th>\n",
       "      <th></th>\n",
       "      <th></th>\n",
       "      <th></th>\n",
       "      <th></th>\n",
       "      <th></th>\n",
       "      <th></th>\n",
       "      <th></th>\n",
       "      <th></th>\n",
       "      <th></th>\n",
       "    </tr>\n",
       "  </thead>\n",
       "  <tbody>\n",
       "    <tr>\n",
       "      <th>The Avengers</th>\n",
       "      <td>https://m.media-amazon.com/images/M/MV5BNDYxNj...</td>\n",
       "      <td>2012</td>\n",
       "      <td>UA</td>\n",
       "      <td>143 min</td>\n",
       "      <td>Action, Adventure, Sci-Fi</td>\n",
       "      <td>8.0</td>\n",
       "      <td>Earth's mightiest heroes must come together an...</td>\n",
       "      <td>69.0</td>\n",
       "      <td>Joss Whedon</td>\n",
       "      <td>Robert Downey Jr.</td>\n",
       "      <td>Chris Evans</td>\n",
       "      <td>Scarlett Johansson</td>\n",
       "      <td>Jeremy Renner</td>\n",
       "      <td>1260806</td>\n",
       "      <td>623,279,547</td>\n",
       "    </tr>\n",
       "    <tr>\n",
       "      <th>Captain America: Civil War</th>\n",
       "      <td>https://m.media-amazon.com/images/M/MV5BMjQ0MT...</td>\n",
       "      <td>2016</td>\n",
       "      <td>UA</td>\n",
       "      <td>147 min</td>\n",
       "      <td>Action, Adventure, Sci-Fi</td>\n",
       "      <td>7.8</td>\n",
       "      <td>Political involvement in the Avengers' affairs...</td>\n",
       "      <td>75.0</td>\n",
       "      <td>Anthony Russo</td>\n",
       "      <td>Joe Russo</td>\n",
       "      <td>Chris Evans</td>\n",
       "      <td>Robert Downey Jr.</td>\n",
       "      <td>Scarlett Johansson</td>\n",
       "      <td>663649</td>\n",
       "      <td>408,084,349</td>\n",
       "    </tr>\n",
       "    <tr>\n",
       "      <th>The Martian</th>\n",
       "      <td>https://m.media-amazon.com/images/M/MV5BMTc2MT...</td>\n",
       "      <td>2015</td>\n",
       "      <td>UA</td>\n",
       "      <td>144 min</td>\n",
       "      <td>Adventure, Drama, Sci-Fi</td>\n",
       "      <td>8.0</td>\n",
       "      <td>An astronaut becomes stranded on Mars after hi...</td>\n",
       "      <td>80.0</td>\n",
       "      <td>Ridley Scott</td>\n",
       "      <td>Matt Damon</td>\n",
       "      <td>Jessica Chastain</td>\n",
       "      <td>Kristen Wiig</td>\n",
       "      <td>Kate Mara</td>\n",
       "      <td>760094</td>\n",
       "      <td>228,433,663</td>\n",
       "    </tr>\n",
       "    <tr>\n",
       "      <th>Avengers: Infinity War</th>\n",
       "      <td>https://m.media-amazon.com/images/M/MV5BMjMxNj...</td>\n",
       "      <td>2018</td>\n",
       "      <td>UA</td>\n",
       "      <td>149 min</td>\n",
       "      <td>Action, Adventure, Sci-Fi</td>\n",
       "      <td>8.4</td>\n",
       "      <td>The Avengers and their allies must be willing ...</td>\n",
       "      <td>68.0</td>\n",
       "      <td>Anthony Russo</td>\n",
       "      <td>Joe Russo</td>\n",
       "      <td>Robert Downey Jr.</td>\n",
       "      <td>Chris Hemsworth</td>\n",
       "      <td>Mark Ruffalo</td>\n",
       "      <td>834477</td>\n",
       "      <td>678,815,482</td>\n",
       "    </tr>\n",
       "    <tr>\n",
       "      <th>Iron Man</th>\n",
       "      <td>https://m.media-amazon.com/images/M/MV5BMTczNT...</td>\n",
       "      <td>2008</td>\n",
       "      <td>UA</td>\n",
       "      <td>126 min</td>\n",
       "      <td>Action, Adventure, Sci-Fi</td>\n",
       "      <td>7.9</td>\n",
       "      <td>After being held captive in an Afghan cave, bi...</td>\n",
       "      <td>79.0</td>\n",
       "      <td>Jon Favreau</td>\n",
       "      <td>Robert Downey Jr.</td>\n",
       "      <td>Gwyneth Paltrow</td>\n",
       "      <td>Terrence Howard</td>\n",
       "      <td>Jeff Bridges</td>\n",
       "      <td>939644</td>\n",
       "      <td>318,412,101</td>\n",
       "    </tr>\n",
       "    <tr>\n",
       "      <th>Avengers: Endgame</th>\n",
       "      <td>https://m.media-amazon.com/images/M/MV5BMTc5MD...</td>\n",
       "      <td>2019</td>\n",
       "      <td>UA</td>\n",
       "      <td>181 min</td>\n",
       "      <td>Action, Adventure, Drama</td>\n",
       "      <td>8.4</td>\n",
       "      <td>After the devastating events of Avengers: Infi...</td>\n",
       "      <td>78.0</td>\n",
       "      <td>Anthony Russo</td>\n",
       "      <td>Joe Russo</td>\n",
       "      <td>Robert Downey Jr.</td>\n",
       "      <td>Chris Evans</td>\n",
       "      <td>Mark Ruffalo</td>\n",
       "      <td>809955</td>\n",
       "      <td>858,373,000</td>\n",
       "    </tr>\n",
       "    <tr>\n",
       "      <th>Thor: Ragnarok</th>\n",
       "      <td>https://m.media-amazon.com/images/M/MV5BMjMyND...</td>\n",
       "      <td>2017</td>\n",
       "      <td>UA</td>\n",
       "      <td>130 min</td>\n",
       "      <td>Action, Adventure, Comedy</td>\n",
       "      <td>7.9</td>\n",
       "      <td>Imprisoned on the planet Sakaar, Thor must rac...</td>\n",
       "      <td>74.0</td>\n",
       "      <td>Taika Waititi</td>\n",
       "      <td>Chris Hemsworth</td>\n",
       "      <td>Tom Hiddleston</td>\n",
       "      <td>Cate Blanchett</td>\n",
       "      <td>Mark Ruffalo</td>\n",
       "      <td>587775</td>\n",
       "      <td>315,058,289</td>\n",
       "    </tr>\n",
       "    <tr>\n",
       "      <th>Interstellar</th>\n",
       "      <td>https://m.media-amazon.com/images/M/MV5BZjdkOT...</td>\n",
       "      <td>2014</td>\n",
       "      <td>UA</td>\n",
       "      <td>169 min</td>\n",
       "      <td>Adventure, Drama, Sci-Fi</td>\n",
       "      <td>8.6</td>\n",
       "      <td>A team of explorers travel through a wormhole ...</td>\n",
       "      <td>74.0</td>\n",
       "      <td>Christopher Nolan</td>\n",
       "      <td>Matthew McConaughey</td>\n",
       "      <td>Anne Hathaway</td>\n",
       "      <td>Jessica Chastain</td>\n",
       "      <td>Mackenzie Foy</td>\n",
       "      <td>1512360</td>\n",
       "      <td>188,020,017</td>\n",
       "    </tr>\n",
       "    <tr>\n",
       "      <th>Guardians of the Galaxy</th>\n",
       "      <td>https://m.media-amazon.com/images/M/MV5BMTAwMj...</td>\n",
       "      <td>2014</td>\n",
       "      <td>UA</td>\n",
       "      <td>121 min</td>\n",
       "      <td>Action, Adventure, Comedy</td>\n",
       "      <td>8.0</td>\n",
       "      <td>A group of intergalactic criminals must pull t...</td>\n",
       "      <td>76.0</td>\n",
       "      <td>James Gunn</td>\n",
       "      <td>Chris Pratt</td>\n",
       "      <td>Vin Diesel</td>\n",
       "      <td>Bradley Cooper</td>\n",
       "      <td>Zoe Saldana</td>\n",
       "      <td>1043455</td>\n",
       "      <td>333,176,600</td>\n",
       "    </tr>\n",
       "    <tr>\n",
       "      <th>Mission: Impossible - Fallout</th>\n",
       "      <td>https://m.media-amazon.com/images/M/MV5BNjRlZm...</td>\n",
       "      <td>2018</td>\n",
       "      <td>UA</td>\n",
       "      <td>147 min</td>\n",
       "      <td>Action, Adventure, Thriller</td>\n",
       "      <td>7.7</td>\n",
       "      <td>Ethan Hunt and his IMF team, along with some f...</td>\n",
       "      <td>86.0</td>\n",
       "      <td>Christopher McQuarrie</td>\n",
       "      <td>Tom Cruise</td>\n",
       "      <td>Henry Cavill</td>\n",
       "      <td>Ving Rhames</td>\n",
       "      <td>Simon Pegg</td>\n",
       "      <td>291257</td>\n",
       "      <td>220,159,104</td>\n",
       "    </tr>\n",
       "  </tbody>\n",
       "</table>\n",
       "</div>"
      ],
      "text/plain": [
       "                                                                     Poster_Link  \\\n",
       "Series_Title                                                                       \n",
       "The Avengers                   https://m.media-amazon.com/images/M/MV5BNDYxNj...   \n",
       "Captain America: Civil War     https://m.media-amazon.com/images/M/MV5BMjQ0MT...   \n",
       "The Martian                    https://m.media-amazon.com/images/M/MV5BMTc2MT...   \n",
       "Avengers: Infinity War         https://m.media-amazon.com/images/M/MV5BMjMxNj...   \n",
       "Iron Man                       https://m.media-amazon.com/images/M/MV5BMTczNT...   \n",
       "Avengers: Endgame              https://m.media-amazon.com/images/M/MV5BMTc5MD...   \n",
       "Thor: Ragnarok                 https://m.media-amazon.com/images/M/MV5BMjMyND...   \n",
       "Interstellar                   https://m.media-amazon.com/images/M/MV5BZjdkOT...   \n",
       "Guardians of the Galaxy        https://m.media-amazon.com/images/M/MV5BMTAwMj...   \n",
       "Mission: Impossible - Fallout  https://m.media-amazon.com/images/M/MV5BNjRlZm...   \n",
       "\n",
       "                              Released_Year Certificate  Runtime  \\\n",
       "Series_Title                                                       \n",
       "The Avengers                           2012          UA  143 min   \n",
       "Captain America: Civil War             2016          UA  147 min   \n",
       "The Martian                            2015          UA  144 min   \n",
       "Avengers: Infinity War                 2018          UA  149 min   \n",
       "Iron Man                               2008          UA  126 min   \n",
       "Avengers: Endgame                      2019          UA  181 min   \n",
       "Thor: Ragnarok                         2017          UA  130 min   \n",
       "Interstellar                           2014          UA  169 min   \n",
       "Guardians of the Galaxy                2014          UA  121 min   \n",
       "Mission: Impossible - Fallout          2018          UA  147 min   \n",
       "\n",
       "                                                     Genre  IMDB_Rating  \\\n",
       "Series_Title                                                              \n",
       "The Avengers                     Action, Adventure, Sci-Fi          8.0   \n",
       "Captain America: Civil War       Action, Adventure, Sci-Fi          7.8   \n",
       "The Martian                       Adventure, Drama, Sci-Fi          8.0   \n",
       "Avengers: Infinity War           Action, Adventure, Sci-Fi          8.4   \n",
       "Iron Man                         Action, Adventure, Sci-Fi          7.9   \n",
       "Avengers: Endgame                 Action, Adventure, Drama          8.4   \n",
       "Thor: Ragnarok                   Action, Adventure, Comedy          7.9   \n",
       "Interstellar                      Adventure, Drama, Sci-Fi          8.6   \n",
       "Guardians of the Galaxy          Action, Adventure, Comedy          8.0   \n",
       "Mission: Impossible - Fallout  Action, Adventure, Thriller          7.7   \n",
       "\n",
       "                                                                        Overview  \\\n",
       "Series_Title                                                                       \n",
       "The Avengers                   Earth's mightiest heroes must come together an...   \n",
       "Captain America: Civil War     Political involvement in the Avengers' affairs...   \n",
       "The Martian                    An astronaut becomes stranded on Mars after hi...   \n",
       "Avengers: Infinity War         The Avengers and their allies must be willing ...   \n",
       "Iron Man                       After being held captive in an Afghan cave, bi...   \n",
       "Avengers: Endgame              After the devastating events of Avengers: Infi...   \n",
       "Thor: Ragnarok                 Imprisoned on the planet Sakaar, Thor must rac...   \n",
       "Interstellar                   A team of explorers travel through a wormhole ...   \n",
       "Guardians of the Galaxy        A group of intergalactic criminals must pull t...   \n",
       "Mission: Impossible - Fallout  Ethan Hunt and his IMF team, along with some f...   \n",
       "\n",
       "                               Meta_score               Director  \\\n",
       "Series_Title                                                       \n",
       "The Avengers                         69.0            Joss Whedon   \n",
       "Captain America: Civil War           75.0          Anthony Russo   \n",
       "The Martian                          80.0           Ridley Scott   \n",
       "Avengers: Infinity War               68.0          Anthony Russo   \n",
       "Iron Man                             79.0            Jon Favreau   \n",
       "Avengers: Endgame                    78.0          Anthony Russo   \n",
       "Thor: Ragnarok                       74.0          Taika Waititi   \n",
       "Interstellar                         74.0      Christopher Nolan   \n",
       "Guardians of the Galaxy              76.0             James Gunn   \n",
       "Mission: Impossible - Fallout        86.0  Christopher McQuarrie   \n",
       "\n",
       "                                             Star1              Star2  \\\n",
       "Series_Title                                                            \n",
       "The Avengers                     Robert Downey Jr.        Chris Evans   \n",
       "Captain America: Civil War               Joe Russo        Chris Evans   \n",
       "The Martian                             Matt Damon   Jessica Chastain   \n",
       "Avengers: Infinity War                   Joe Russo  Robert Downey Jr.   \n",
       "Iron Man                         Robert Downey Jr.    Gwyneth Paltrow   \n",
       "Avengers: Endgame                        Joe Russo  Robert Downey Jr.   \n",
       "Thor: Ragnarok                     Chris Hemsworth     Tom Hiddleston   \n",
       "Interstellar                   Matthew McConaughey      Anne Hathaway   \n",
       "Guardians of the Galaxy                Chris Pratt         Vin Diesel   \n",
       "Mission: Impossible - Fallout           Tom Cruise       Henry Cavill   \n",
       "\n",
       "                                            Star3               Star4  \\\n",
       "Series_Title                                                            \n",
       "The Avengers                   Scarlett Johansson       Jeremy Renner   \n",
       "Captain America: Civil War      Robert Downey Jr.  Scarlett Johansson   \n",
       "The Martian                          Kristen Wiig           Kate Mara   \n",
       "Avengers: Infinity War            Chris Hemsworth        Mark Ruffalo   \n",
       "Iron Man                          Terrence Howard        Jeff Bridges   \n",
       "Avengers: Endgame                     Chris Evans        Mark Ruffalo   \n",
       "Thor: Ragnarok                     Cate Blanchett        Mark Ruffalo   \n",
       "Interstellar                     Jessica Chastain       Mackenzie Foy   \n",
       "Guardians of the Galaxy            Bradley Cooper         Zoe Saldana   \n",
       "Mission: Impossible - Fallout         Ving Rhames          Simon Pegg   \n",
       "\n",
       "                               No_of_Votes        Gross  \n",
       "Series_Title                                             \n",
       "The Avengers                       1260806  623,279,547  \n",
       "Captain America: Civil War          663649  408,084,349  \n",
       "The Martian                         760094  228,433,663  \n",
       "Avengers: Infinity War              834477  678,815,482  \n",
       "Iron Man                            939644  318,412,101  \n",
       "Avengers: Endgame                   809955  858,373,000  \n",
       "Thor: Ragnarok                      587775  315,058,289  \n",
       "Interstellar                       1512360  188,020,017  \n",
       "Guardians of the Galaxy            1043455  333,176,600  \n",
       "Mission: Impossible - Fallout       291257  220,159,104  "
      ]
     },
     "execution_count": 52,
     "metadata": {},
     "output_type": "execute_result"
    }
   ],
   "source": [
    "df_movies_original.loc[similar_movies[0:10]]"
   ]
  },
  {
   "attachments": {},
   "cell_type": "markdown",
   "metadata": {},
   "source": [
    "En las primeras 10 recomendaciones se encuentran otras películas de Marvel así como películas Acción, Aventura y Ciencia ficción. También con la clasificación (Certificate) y duración similar de la película \"The Avengers\"."
   ]
  }
 ],
 "metadata": {
  "kernelspec": {
   "display_name": "movies_env",
   "language": "python",
   "name": "python3"
  },
  "language_info": {
   "codemirror_mode": {
    "name": "ipython",
    "version": 3
   },
   "file_extension": ".py",
   "mimetype": "text/x-python",
   "name": "python",
   "nbconvert_exporter": "python",
   "pygments_lexer": "ipython3",
   "version": "3.9.7"
  },
  "orig_nbformat": 4,
  "vscode": {
   "interpreter": {
    "hash": "0d9a7d9ac7268581317f9c555e661a914ad87caded6bd22f26f1ff19bf07d3d2"
   }
  }
 },
 "nbformat": 4,
 "nbformat_minor": 2
}
