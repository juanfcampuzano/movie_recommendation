{
 "cells": [
  {
   "attachments": {},
   "cell_type": "markdown",
   "metadata": {},
   "source": [
    "# 03. Recomendacion"
   ]
  },
  {
   "attachments": {},
   "cell_type": "markdown",
   "metadata": {},
   "source": [
    "## Importar librerías"
   ]
  },
  {
   "cell_type": "code",
   "execution_count": 1,
   "metadata": {},
   "outputs": [],
   "source": [
    "import pandas as pd"
   ]
  },
  {
   "attachments": {},
   "cell_type": "markdown",
   "metadata": {},
   "source": [
    "## Cargar modelo (similarity matrix)"
   ]
  },
  {
   "cell_type": "code",
   "execution_count": 2,
   "metadata": {},
   "outputs": [],
   "source": [
    "df_similitud = pd.read_csv('../models/similarity.csv')\n",
    "df_similitud.set_index('Unnamed: 0', drop = True, inplace = True)"
   ]
  },
  {
   "cell_type": "code",
   "execution_count": 3,
   "metadata": {},
   "outputs": [],
   "source": [
    "def recomendar(pelicula, cantidad):\n",
    "    print(f'''\n",
    "    Usted vio la película {pelicula}.\n",
    "\n",
    "    Sus recomendaciones son las siguientes:\n",
    "    ''')\n",
    "\n",
    "    for index, movie in enumerate(df_similitud[pelicula].sort_values(ascending=False)[1:cantidad+1].index):\n",
    "        print(str(index+1) + '. ' + movie)"
   ]
  },
  {
   "attachments": {},
   "cell_type": "markdown",
   "metadata": {},
   "source": [
    "Ejemplo con la película buscando a Nemo, donde recomienda más películas con la clasificación de edad de buscando a nemo y de animación. Son películas que probablemente le gusten al usuario."
   ]
  },
  {
   "cell_type": "code",
   "execution_count": 4,
   "metadata": {},
   "outputs": [
    {
     "name": "stdout",
     "output_type": "stream",
     "text": [
      "\n",
      "    Usted vio la película Finding Nemo.\n",
      "\n",
      "    Sus recomendaciones son las siguientes:\n",
      "    \n",
      "1. Monsters, Inc.\n",
      "2. Who Framed Roger Rabbit\n",
      "3. WALL·E\n",
      "4. Wreck-It Ralph\n",
      "5. Shrek\n",
      "6. Moana\n",
      "7. Ratatouille\n",
      "8. Toy Story 2\n",
      "9. Toy Story 3\n",
      "10. Toy Story 4\n"
     ]
    }
   ],
   "source": [
    "PELICULA_VISTA = 'Finding Nemo'\n",
    "CANTIDAD_DE_RECOMENDACIONES = 10\n",
    "recomendar(PELICULA_VISTA, CANTIDAD_DE_RECOMENDACIONES)"
   ]
  }
 ],
 "metadata": {
  "kernelspec": {
   "display_name": "movies_env",
   "language": "python",
   "name": "python3"
  },
  "language_info": {
   "codemirror_mode": {
    "name": "ipython",
    "version": 3
   },
   "file_extension": ".py",
   "mimetype": "text/x-python",
   "name": "python",
   "nbconvert_exporter": "python",
   "pygments_lexer": "ipython3",
   "version": "3.9.7"
  },
  "orig_nbformat": 4,
  "vscode": {
   "interpreter": {
    "hash": "0d9a7d9ac7268581317f9c555e661a914ad87caded6bd22f26f1ff19bf07d3d2"
   }
  }
 },
 "nbformat": 4,
 "nbformat_minor": 2
}
